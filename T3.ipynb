{
 "cells": [
  {
   "cell_type": "code",
   "execution_count": 54,
   "metadata": {},
   "outputs": [],
   "source": [
    "\n",
    "import random\n",
    "import hashlib\n",
    "import base64\n",
    "import math"
   ]
  },
  {
   "cell_type": "markdown",
   "metadata": {},
   "source": [
    "## $\\text{Parte I}$"
   ]
  },
  {
   "cell_type": "markdown",
   "metadata": {},
   "source": [
    "### Funções utilitárias"
   ]
  },
  {
   "cell_type": "code",
   "execution_count": 55,
   "metadata": {},
   "outputs": [],
   "source": [
    "Key = tuple[int, int]\n",
    "\n",
    "# def is_prime(n):\n",
    "#     \"\"\"Teste de primalidade de Miller-Rabin. Detalhes: https://pt.wikipedia.org/wiki/Teste_de_primalidade_de_Miller%E2%80%93Rabin\"\"\"\n",
    "#     # 1 < a < n\n",
    "#     a = random.randint(2, n - 1)\n",
    "#     d = 0\n",
    "#     # s = max{r ∈ N | 2^r divide n - 1}\n",
    "#     for r in range(1, n):\n",
    "#         if (n - 1) % (2 ** r) == 0:\n",
    "#             # d = (n - 1) / (2^r)\n",
    "#             d = (n - 1) // (2 ** r)\n",
    "#         else:\n",
    "#             break\n",
    "        \n",
    "#     # a^d ≡ 1 mod n\n",
    "#     if pow(a, d, n) == 1:\n",
    "#         return True\n",
    "#     else:\n",
    "#         return False\n",
    "\n",
    "def is_prime(n, _precision_for_huge_n=16):\n",
    "    \"\"\"Teste de primalidade de Miller-Rabin. Detalhes: https://rosettacode.org/wiki/Miller%E2%80%93Rabin_primality_test#Python:_Probably_correct_answers\"\"\"\n",
    "    def is_prime_trial_division(n: int) -> bool:\n",
    "        '''Testa se dado inteiro n é primo por tentativa de divisões'''\n",
    "        if n == 2:\n",
    "            return True\n",
    "        if n < 2 or n % 2 == 0:\n",
    "            return False\n",
    "        for i in range(3, math.ceil(math.sqrt(n)), 2):\n",
    "            if n % i == 0:\n",
    "                return False\n",
    "        return True\n",
    "    \n",
    "    _known_primes = [2] + \\\n",
    "        [x for x in range(3, 1000, 2) if is_prime_trial_division(x)]\n",
    "\n",
    "    def _try_composite(a, d, n, s):\n",
    "        if pow(a, d, n) == 1:\n",
    "            return False\n",
    "        for i in range(s):\n",
    "            if pow(a, 2**i * d, n) == n-1:\n",
    "                return False\n",
    "        return True # n  is definitely composite\n",
    " \n",
    "    if n in _known_primes:\n",
    "        return True\n",
    "    if any((n % p) == 0 for p in _known_primes) or n in (0, 1):\n",
    "        return False\n",
    "    d, s = n - 1, 0\n",
    "    while not d % 2:\n",
    "        d, s = d >> 1, s + 1\n",
    "    # Returns exact according to http://primes.utm.edu/prove/prove2_3.html\n",
    "    if n < 1373653: \n",
    "        return not any(_try_composite(a, d, n, s) for a in (2, 3))\n",
    "    if n < 25326001: \n",
    "        return not any(_try_composite(a, d, n, s) for a in (2, 3, 5))\n",
    "    if n < 118670087467: \n",
    "        if n == 3215031751: \n",
    "            return False\n",
    "        return not any(_try_composite(a, d, n, s) for a in (2, 3, 5, 7))\n",
    "    if n < 2152302898747: \n",
    "        return not any(_try_composite(a, d, n, s) for a in (2, 3, 5, 7, 11))\n",
    "    if n < 3474749660383: \n",
    "        return not any(_try_composite(a, d, n, s) for a in (2, 3, 5, 7, 11, 13))\n",
    "    if n < 341550071728321: \n",
    "        return not any(_try_composite(a, d, n, s) for a in (2, 3, 5, 7, 11, 13, 17))\n",
    "    # otherwise\n",
    "    return not any(_try_composite(a, d, n, s) \n",
    "                   for a in _known_primes[:_precision_for_huge_n])\n",
    "\n",
    "\n",
    "def generate_big_prime_pair(b):\n",
    "    p = random.getrandbits(b)\n",
    "    q = random.getrandbits(b)\n",
    "\n",
    "    while not is_prime(p):\n",
    "        p = random.getrandbits(b)\n",
    "    \n",
    "    while not is_prime(q) or p == q:\n",
    "        q = random.getrandbits(b)\n",
    "\n",
    "    return (p, q)   \n",
    "\n",
    "def I2OSP(x: int, l: int):\n",
    "    \"\"\"Integer-to-Octet-String, responsável por converter um inteiro em BASE64.\n",
    "       Detalhes:\"https://www.inf.pucrs.br/calazans/graduate/TPVLSI_I/RSA-oaep_spec.pdf, seção 1.1.2\"\"\"\n",
    "    \n",
    "    # conversão para base 256 com tamanho l\n",
    "    try:\n",
    "        return x.to_bytes(l, byteorder='big')\n",
    "    except OverflowError:\n",
    "        return x.to_bytes((l+7)//8, byteorder='big')\n",
    "        \n",
    "\n",
    "def OS2IP(X: bytes):\n",
    "    \"\"\"Octet-String-to-Integer, responsável por converter o texto BASE64 em um inteiro\n",
    "       Detalhes:\"https://www.inf.pucrs.br/calazans/graduate/TPVLSI_I/RSA-oaep_spec.pdf, seção 1.1.2\"\"\"\n",
    "    return int.from_bytes(X, byteorder='big')\n",
    "\n",
    "def OS2B64(X: bytes):\n",
    "    \"\"\"Converte um octeto em BASE64\"\"\"\n",
    "    return base64.b64encode(X)\n",
    "\n",
    "def B642OS(X: bytes):\n",
    "    \"\"\"Converte um BASE64 em octeto\"\"\"\n",
    "    return base64.b64decode(X)\n",
    "\n",
    "def I2B64(x: int):\n",
    "    \"\"\"Converte um inteiro em BASE64\"\"\"\n",
    "    return base64.b64encode(str(x).encode())\n",
    "\n",
    "def B64concat(a: bytes, b: bytes):\n",
    "    \"\"\"Concatena dois BASE64\"\"\"\n",
    "    _a = base64.b64decode(a)\n",
    "    _b = base64.b64decode(b)\n",
    "    return base64.b64encode(_a + _b)\n",
    "\n",
    "def bitwise_xor(a: bytes, b: bytes):\n",
    "    \"\"\"Operação XOR entre dois bytes\"\"\"\n",
    "    r=b\"\"\n",
    "    \n",
    "    for i in range(max(len(a), len(b))):\n",
    "        if i >= len(a):\n",
    "            r += b[i].to_bytes(1, byteorder='big')\n",
    "        elif i >= len(b):\n",
    "            r += a[i].to_bytes(1, byteorder='big')\n",
    "        else:\n",
    "            r += (a[i] ^ b[i]).to_bytes(1, byteorder='big')\n",
    "    \n",
    "    return r\n",
    "\n",
    "def key_len(key: Key):\n",
    "    \"\"\"Retorna o número de octetos do modulo n da chave\"\"\"\n",
    "    _, n = key\n",
    "    return math.ceil(n.bit_length() / 8)"
   ]
  },
  {
   "cell_type": "markdown",
   "metadata": {},
   "source": [
    "### Geração de chaves"
   ]
  },
  {
   "cell_type": "code",
   "execution_count": 56,
   "metadata": {},
   "outputs": [],
   "source": [
    "\n",
    "def generate_public_key(phi: int):\n",
    "    # A chave pública e é um número primo tal que 1 < e < φ(n) e mdc(e, φ(n)) = 1\n",
    "    e = random.randrange(2, phi)\n",
    "    \n",
    "    while not is_prime(e):\n",
    "        e = random.randrange(2, phi)\n",
    "\n",
    "    return e\n",
    "\n",
    "def generate_private_key(e: int, phi: int):\n",
    "    # A chave privada d é um número tal que e*d ≡ 1 mod φ(n)\n",
    "    d = pow(e, -1, phi)\n",
    "    \n",
    "    return d\n",
    "\n",
    "def generate_keypair() -> tuple[Key, Key]:\n",
    "    while True:\n",
    "        try :\n",
    "            p, q = generate_big_prime_pair(1024)\n",
    "            \n",
    "            n = p * q\n",
    "            phi = (p - 1) * (q - 1)\n",
    "            \n",
    "            e = generate_public_key(phi)\n",
    "            d = generate_private_key(e, phi)\n",
    "            break\n",
    "        except:\n",
    "            continue\n",
    "    \n",
    "    return ((e, n), (d, n))"
   ]
  },
  {
   "cell_type": "markdown",
   "metadata": {},
   "source": [
    "#### RSA"
   ]
  },
  {
   "cell_type": "code",
   "execution_count": 57,
   "metadata": {},
   "outputs": [],
   "source": [
    "def RSA_encode(key: Key, m: bytes):\n",
    "    e, n = key\n",
    "    \n",
    "    M = OS2IP(m)\n",
    "    \n",
    "    return pow(M, e, n)\n",
    "\n",
    "def RSA_decode(key: Key, c: int):\n",
    "    d, n = key\n",
    "    \n",
    "    return pow(c, d, n)"
   ]
  },
  {
   "cell_type": "markdown",
   "metadata": {},
   "source": [
    "#### Padding e criptografia e descriptografia\n",
    "Detalhes: https://www.inf.pucrs.br/calazans/graduate/TPVLSI_I/RSA-oaep_spec.pdf, seção 1.3."
   ]
  },
  {
   "cell_type": "code",
   "execution_count": 58,
   "metadata": {},
   "outputs": [],
   "source": [
    "\n",
    "def MGF(Z: bytes, l: int):\n",
    "    \"\"\"MGF utilizando o Hash SHA-3\"\"\"\n",
    "    \n",
    "    # hLen denota o comprimento nos octetos da saída da função hash\n",
    "    hLen = hashlib.sha3_256().digest_size\n",
    "    \n",
    "    if l > 2**32 * hLen:\n",
    "        raise ValueError(\"Máscara muito longa.\")\n",
    "    \n",
    "    T = b\"\"\n",
    "    \n",
    "    for i in range(math.ceil(l / hLen)):\n",
    "        # Converte i em um octeto C de tamanho 4 com a primitiva I2OSP.\n",
    "        C = I2OSP(i, 4)\n",
    "        # Concatena o resultado do hash SHA-3 de seed Z e C com T.\n",
    "        T += hashlib.sha3_256(Z + C).digest()\n",
    "    \n",
    "    # A máscara M é a string consistindo dos primeiros l octetos de T.\n",
    "    return T[:l]\n",
    "\n",
    "def OAEP_encode(M: bytes, emLen: int, P: bytes = b\"\"):\n",
    "    \"\"\"Encode de OAEP utilizando o Hash SHA-3\"\"\"\n",
    "\n",
    "    hLen = hashlib.sha3_256().digest_size\n",
    "    mLen = len(M)\n",
    "    \n",
    "    if mLen > emLen - 2 * hLen - 2:\n",
    "        raise ValueError(\"Mensagem muito grande.\")\n",
    "    \n",
    "    # Geração de uma string de octetos de comprimento (emLen - mLen - 2 * hLen - 2) consistindo de zeros.\n",
    "    PS = b\"\\x00\" * (emLen - mLen - 2 * hLen - 2)\n",
    "    \n",
    "    pHash = hashlib.sha3_256(P).digest()\n",
    "    \n",
    "    # Concatenação de pHash, PS, um octeto 0x01 e a mensagem M no bloco de dados DB.\n",
    "    DB = pHash + PS + b\"\\x01\" + M\n",
    "    \n",
    "    seed = random.getrandbits(hLen * 8).to_bytes(hLen, byteorder='big')\n",
    "    \n",
    "    # Mascaramento do bloco de dados\n",
    "    dbMask = MGF(seed, emLen - hLen - 1)\n",
    "    maskedDB = bitwise_xor(DB, dbMask)\n",
    "\n",
    "    # Mascaramento da seed\n",
    "    seedMask = MGF(maskedDB, hLen)\n",
    "    maskedSeed = bitwise_xor(seed, seedMask)\n",
    "    \n",
    "    return b'\\x00' + maskedSeed + maskedDB\n",
    "\n",
    "def OAEP_decode(EM: bytes, P: bytes = b\"\"):\n",
    "    \"\"\"Decode de OAEP utilizando o Hash SHA-3\"\"\"\n",
    "    hLen = hashlib.sha3_256().digest_size\n",
    "    emLen = len(EM)\n",
    "    \n",
    "    if emLen < 2 * hLen + 2:\n",
    "        raise ValueError(\"Erro na decodificação. Tamanho de EM inválido.\")\n",
    "    \n",
    "    maskedSeed = EM[1: 1 + hLen]\n",
    "    maskedDB = EM[1 + hLen:]\n",
    "    \n",
    "    seedMask = MGF(maskedDB, hLen)\n",
    "    seed = bitwise_xor(maskedSeed, seedMask)\n",
    "    \n",
    "    dbMask = MGF(seed, emLen - hLen - 1)\n",
    "    DB = bitwise_xor(maskedDB, dbMask)\n",
    "    \n",
    "    pHash = hashlib.sha3_256(P).digest()\n",
    "    \n",
    "    # Separa a mensagem supondo o formato 00 || pHash_ || PS || 01 || M\n",
    "    pHash_ = DB[:hLen]        \n",
    "    \n",
    "    if pHash != pHash_:\n",
    "        raise ValueError(\"Erro na decodifiocação.\")\n",
    "    \n",
    "    # Busca o byte 01 após o padding.\n",
    "    i = hLen\n",
    "    while DB[i] == 0:\n",
    "        i += 1\n",
    "    \n",
    "    if DB[i] != 1:\n",
    "        raise ValueError(\"Byte 0x01 não encontrado.\")\n",
    "    \n",
    "    return DB[i+1:]\n"
   ]
  },
  {
   "cell_type": "markdown",
   "metadata": {},
   "source": [
    "#### Criptografia e descriptografia"
   ]
  },
  {
   "cell_type": "code",
   "execution_count": 59,
   "metadata": {},
   "outputs": [],
   "source": [
    "def encrypt(key: Key, M64: bytes, P: bytes = b\"\"):\n",
    "    \"\"\"\"Criptografa a mensagem usando RSA-OAEP\"\"\"\n",
    "    try:\n",
    "        e, _ = key\n",
    "        \n",
    "        M = B642OS(M64)\n",
    "        \n",
    "        emLen = key_len(key)\n",
    "        \n",
    "        EM = OAEP_encode(M, emLen, P)\n",
    "\n",
    "        c = RSA_encode(key, EM)\n",
    "        \n",
    "        C = I2OSP(c, emLen)\n",
    "        \n",
    "        C64 = OS2B64(C)\n",
    "        \n",
    "        return C64\n",
    "    \n",
    "    except ValueError as e:\n",
    "        print(f\"Erro: {e}\")\n",
    "        return None\n",
    "    \n",
    "def decrypt(key: Key,  C64: bytes, P: bytes = b\"\"):\n",
    "    \"\"\"\"Descriptografa a mensagem usando RSA-OAEP\"\"\"\n",
    "    try:\n",
    "        emLen = key_len(key)\n",
    "        \n",
    "        C = B642OS(C64)\n",
    "        \n",
    "        c = OS2IP(C)\n",
    "        \n",
    "        m = RSA_decode(key, c)\n",
    "        \n",
    "        EM = I2OSP(m, emLen)\n",
    "\n",
    "        M = OAEP_decode(EM, P)\n",
    "        \n",
    "        M64 = OS2B64(M)\n",
    "        \n",
    "        return M64\n",
    "    \n",
    "    except ValueError as e:\n",
    "        print(f\"Erro: {e}\")\n",
    "        return None\n",
    "\n",
    "    "
   ]
  },
  {
   "cell_type": "markdown",
   "metadata": {},
   "source": [
    "#### Teste"
   ]
  },
  {
   "cell_type": "code",
   "execution_count": 60,
   "metadata": {},
   "outputs": [
    {
     "name": "stdout",
     "output_type": "stream",
     "text": [
      "Chave pública: NDYxMTc5MzM3MzIyMzA0Mzg0NTAzNTI2NDY3NjcyNDMwMTAyNjQ0MTExNDk2ODE4Mzc1MTE5Mjc5MTMxODM5NzM5MDM5NTI2NTI3NjcyOTA5NjM5NzA4NDQyNjAyMTI3MzUxMDUzMDg2ODA5MDc2Njg4OTU0NzgzNTEyOTU2MDYxODk5ODQ0NDUxMzc0OTc4NzQxNTU5MTU4NjA4MTUxODY0MTE3MzgxMjQwNDEzNDQ4MjExNzQ3MjYyNjkzNTIxNTU1OTQ3NDY4MjA0NDc4Mjg5OTE2MTI0NjQ4ODgyNjcyNDQ4MzMzNDIyMTY0OTU0NDE5NDM1MDc3NDEzMTk2MTYzNzYwOTU5ODA3MTI0MjIxMTk3NjgyMTY5OTY5OTUxNTU3NTIzOTY0MjQ3MzgyMzU1NDEwMjM3MjE2NDc4OTAyNjkyMjAzOTUwMDg2NzAxOTk2ODE4MjgxMDQzMDc5OTczNzAwNjg5NTg1ODUzNjM3OTE5NDAyMTQ1ODA5NTQxNDI3NTY4ODI0Njk1NzQzMTMxNTI1ODA0Nzc4MjUwOTk0MDAwODc0Mjc3MzYxMDg4NjA2ODQyNTMzNzk1Mjc4NTM0MzczMjA2ODI1MTY5ODc3NTg3ODM3MjA1NDA2NTgwMDE4NDIzMTY4Mjk5MzA1OTAyMDkwODU1NDU2NTU3MDgyNzY1Nzk1NzY5NjI3NTg0MDkxMDg1Nzk0ODg2MTYxNTM5NjIxMzMyNTQ0Mjc0MDIwNzA5Mjc5OTk2Mzk3MjIyOTkwNzAxNTQwMjk5NjUxNTU1MzczNTg5Njc3ODU2NDYyODg4NTc1OQ==\n",
      "Chave privada: NjQxMTM3NjAzMjIzOTIyOTc1ODM5MTQ0MzY3ODgwNDg4Mjc2NTQ1MzI2OTY2ODkzNTMxMTY1MjA2NzUxODE5OTY1NDIyMzgwOTYwNjIwNjYxMDE2NDYwODEzNTg3MDYxNzg3OTk1NDIxOTAxMDUyMDE0MjMyNDk5MTY1ODM2MDc3Mzc4MzUzOTUyMjU2MTMzNjQyMzg0NTU5MzkzODA4OTg0NDI5MTU5MDEzMTIyMjA1MzE4ODkwNDkwNTg4OTEyMjE2MjQ3MzcxNTQ0MjY1MzU3OTczOTk4OTUyODAxNDM3MzgxOTUwMDIxMzY3MDk3MzgwMzk2NjYxNjc5MDgyMzQ2MDMxNTg5MzM5ODg1ODUzNjc2MTU1ODQzODI4NTI5MzM2NzM1MzQ5OTY3ODkyMjU1NDc0NjYxNDIzMjM5OTg4MTE2OTk1MDc4NjU4MTgxNzg5ODQxNjE3NzQyODcxNTQzNTAwOTY3MDMyODI2OTYxNzg3NDYxMDcwNDU0NjE5OTY2MzA0MTQzOTgxMTk0NTU4NDc5NDMxMzI2Mzk5MDU5Mjk1ODM1NDExNzYyOTE5NjA1OTgxOTQyMjAxNDE1Mjk2NzY2MjI0NjQyMjE5NjU5NzYzNDQ0NTg0NDkyMzgxNzc3NTkzNDE1OTc0MDQ4OTgxOTI2NTM0Njk2ODUzMjMyNDQwMDkzNjQ2NTY0MDc2MTc3ODc1MjQ1NzY1MjUwNzc4MTk1MzE1MDA5OTI4OTAzNDgwODkwNTI5NTY3NjY2MTY2MTM3MDY5MzM2MjUzMTUwMDQwOTA5MjQ3NDAxODI1MzMxMzk3OQ==\n"
     ]
    }
   ],
   "source": [
    "public_key, private_key = generate_keypair()\n",
    "\n",
    "print(f\"Chave pública: {I2B64(public_key[0]).decode()}\")\n",
    "print(f\"Chave privada: {I2B64(private_key[0]).decode()}\")"
   ]
  },
  {
   "cell_type": "code",
   "execution_count": 86,
   "metadata": {},
   "outputs": [
    {
     "name": "stdout",
     "output_type": "stream",
     "text": [
      "Mensagem original: b'Rm9vYmFyIHN1cHJlbWFjeSE='\n",
      "Mensagem cifrada (base64): b'S00yWGhUYUFVR2xrUWtWTllzeWtiUkVTYzZ6akl1MTQwUXlwVE4rZURiSVBZZWFpVVBRM05TNW5lalo1ZWZ2VlBmd3NDT21ZajlJb1plTzAzcDNMdWRrOGltK01oWGlaQ3BmNDFSODV6NUFkM2Rxb1FTMVlqZlFNa0poN1Q5ekluelhBMVdTRmRnaldLQjJjUFg4RnpoaWdmU3RLS0t2WjM3MFZCdCtuWlQrMzJJbk9NZlZBbEZycnBBOXg5WnFOa0lIMkFmZTRNdVRlZGFJV0lmVlF4azgySlBwOXJVSXpWVS9UcDQwVFdrdGtNK3RkSHlRSXcxSkdZRWViQWJrbWU0RElrNEJVZ2I2RHlSZnA3NnkzV09nOFR1enJMcSthZWNpSklVdkdRK2VvYUhhdldYTXEreGZrNTdodEp5djczRTVaRXpoSCtYaGR2TmhOckFjQ3lnPT0='\n",
      "Mensagem decifrada: b'Rm9vYmFyIHN1cHJlbWFjeSE='\n",
      "Sucesso!\n"
     ]
    }
   ],
   "source": [
    "M = OS2B64(b\"Foobar supremacy!\")\n",
    "\n",
    "print(f\"Mensagem original: {M}\")\n",
    "\n",
    "C = encrypt(private_key, M)\n",
    "\n",
    "M_ = decrypt(public_key, C)\n",
    "\n",
    "print(f\"Mensagem cifrada (base64): {OS2B64(C)}\")\n",
    "\n",
    "print(f\"Mensagem decifrada: {M_}\")\n",
    "\n",
    "if M == M_:\n",
    "    print(\"Sucesso!\")\n",
    "else:\n",
    "    print(\"Falha!\")"
   ]
  },
  {
   "cell_type": "markdown",
   "metadata": {},
   "source": [
    "## $\\text{Parte II}$\n",
    "### Assinatura"
   ]
  },
  {
   "cell_type": "code",
   "execution_count": 62,
   "metadata": {},
   "outputs": [],
   "source": [
    "\n",
    "def sign(key: Key, M: bytes):\n",
    "    \"\"\"Assinatura digital usando RSA\"\"\"\n",
    "    try:\n",
    "        hashedM = OS2B64(hashlib.sha3_256(B642OS(M)).digest())\n",
    "\n",
    "        encryptedHash = encrypt(key, hashedM)\n",
    "        \n",
    "        return B64concat(encryptedHash, M)\n",
    "    \n",
    "    except ValueError as e:\n",
    "        print(f\"Erro de assinatura: {e}\")\n",
    "        return None"
   ]
  },
  {
   "cell_type": "markdown",
   "metadata": {},
   "source": [
    "## $\\text{Parte III}$\n",
    "### Verificação"
   ]
  },
  {
   "cell_type": "code",
   "execution_count": 87,
   "metadata": {},
   "outputs": [],
   "source": [
    "def verify(key: Key, signedM: bytes):\n",
    "    \"\"\"Verificação da assinatura digital usando RSA\"\"\"\n",
    "    try:\n",
    "        emLen = key_len(key)\n",
    "        \n",
    "        OSsignedM = B642OS(signedM)\n",
    "        \n",
    "        encryptedHash = OS2B64(OSsignedM[:emLen])\n",
    "\n",
    "        decryptedHash = decrypt(key, encryptedHash)\n",
    "        \n",
    "        hashedM = OS2B64(hashlib.sha3_256(OSsignedM[emLen:]).digest())\n",
    "        \n",
    "        return hashedM == decryptedHash\n",
    "        \n",
    "    except ValueError as e:\n",
    "        print(f\"Erro de verificação: {e}\")\n",
    "        return False"
   ]
  },
  {
   "cell_type": "markdown",
   "metadata": {},
   "source": [
    "## Criptografia + Assinatura de arquivo"
   ]
  },
  {
   "cell_type": "code",
   "execution_count": 64,
   "metadata": {},
   "outputs": [],
   "source": [
    "with open(\"lorem.txt\", \"rb\") as f:   \n",
    "    M = base64.b64encode(f.read())\n",
    "    signedM = sign(private_key, M)\n",
    "\n",
    "    \n",
    "    if signedM:\n",
    "        with open(\"lorem_signed.txt\", \"wb\") as f:\n",
    "            f.write(signedM)"
   ]
  },
  {
   "cell_type": "code",
   "execution_count": 65,
   "metadata": {},
   "outputs": [
    {
     "name": "stdout",
     "output_type": "stream",
     "text": [
      "True\n"
     ]
    }
   ],
   "source": [
    "with open(\"lorem_signed.txt\", \"rb\") as f:  \n",
    "    C = f.read()\n",
    "\n",
    "    M_ = verify(public_key, C)\n",
    "        \n",
    "print(M_)\n",
    "    \n"
   ]
  },
  {
   "cell_type": "code",
   "execution_count": null,
   "metadata": {},
   "outputs": [],
   "source": []
  }
 ],
 "metadata": {
  "kernelspec": {
   "display_name": "UnB_SegComp",
   "language": "python",
   "name": "python3"
  },
  "language_info": {
   "codemirror_mode": {
    "name": "ipython",
    "version": 3
   },
   "file_extension": ".py",
   "mimetype": "text/x-python",
   "name": "python",
   "nbconvert_exporter": "python",
   "pygments_lexer": "ipython3",
   "version": "3.13.0"
  }
 },
 "nbformat": 4,
 "nbformat_minor": 2
}
