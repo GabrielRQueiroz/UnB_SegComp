{
 "cells": [
  {
   "cell_type": "code",
   "execution_count": 525,
   "metadata": {},
   "outputs": [],
   "source": [
    "\n",
    "import random\n",
    "import hashlib\n",
    "# import base64\n",
    "import math\n",
    "import time"
   ]
  },
  {
   "cell_type": "markdown",
   "metadata": {},
   "source": [
    "## $\\text{Parte I}$"
   ]
  },
  {
   "cell_type": "markdown",
   "metadata": {},
   "source": [
    "### Formatação Base64"
   ]
  },
  {
   "cell_type": "code",
   "execution_count": 526,
   "metadata": {},
   "outputs": [],
   "source": [
    "class Base64:\n",
    "    CHARSET = \"ABCDEFGHIJKLMNOPQRSTUVWXYZabcdefghijklmnopqrstuvwxyz0123456789+/\"\n",
    "\n",
    "    def b64encode(self, data: bytes) -> str:\n",
    "        \"\"\"Codifica uma byte string em uma string Base64.\"\"\"\n",
    "        binary_str = \"\".join(f\"{byte:08b}\" for byte in data)  # Converte bytes para binário\n",
    "        padding = (6 - len(binary_str) % 6) % 6  # Verifica a necessidade de padding\n",
    "        binary_str += \"0\" * padding  # Faz o padding com zeros\n",
    "\n",
    "        # Converte cada 6 bits para caracteres Base64\n",
    "        encoded = \"\".join(Base64.CHARSET[int(binary_str[i:i+6], 2)] for i in range(0, len(binary_str), 6))\n",
    "\n",
    "        # Adiciona o padding '=' conforme bytes faltantes\n",
    "        if padding:\n",
    "            encoded += \"=\" * (padding // 2)\n",
    "\n",
    "        return encoded\n",
    "\n",
    "    def b64decode(self, encoded: str) -> bytes:\n",
    "        \"\"\"Decodifica uma string Base64 em sua byte string equivalente.\"\"\"\n",
    "        encoded = encoded.rstrip(\"=\")  # Remove o padding '='\n",
    "        \n",
    "        binary_str = \"\".join(f\"{Base64.CHARSET.index(char):06b}\" for char in encoded) # Para cada caractere, converte em um binário de 6 bits\n",
    "\n",
    "        # Converte cada 8 bits para bytes\n",
    "        byte_chunks = [binary_str[i:i+8] for i in range(0, len(binary_str), 8)]\n",
    "        decoded_bytes = bytes(int(chunk, 2) for chunk in byte_chunks if len(chunk) == 8)\n",
    "\n",
    "        return decoded_bytes"
   ]
  },
  {
   "cell_type": "code",
   "execution_count": 527,
   "metadata": {},
   "outputs": [],
   "source": [
    "base64 = Base64()"
   ]
  },
  {
   "cell_type": "markdown",
   "metadata": {},
   "source": [
    "### Funções utilitárias"
   ]
  },
  {
   "cell_type": "code",
   "execution_count": 528,
   "metadata": {},
   "outputs": [],
   "source": [
    "Key = tuple[int, int]\n",
    "\n",
    "# def is_prime(n):\n",
    "#     \"\"\"Teste de primalidade de Miller-Rabin. Detalhes: https://pt.wikipedia.org/wiki/Teste_de_primalidade_de_Miller%E2%80%93Rabin\"\"\"\n",
    "#     # 1 < a < n\n",
    "#     a = random.randint(2, n - 1)\n",
    "#     d = 0\n",
    "#     # s = max{r ∈ N | 2^r divide n - 1}\n",
    "#     for r in range(1, n):\n",
    "#         if (n - 1) % (2 ** r) == 0:\n",
    "#             # d = (n - 1) / (2^r)\n",
    "#             d = (n - 1) // (2 ** r)\n",
    "#         else:\n",
    "#             break\n",
    "        \n",
    "#     # a^d ≡ 1 mod n\n",
    "#     if pow(a, d, n) == 1:\n",
    "#         return True\n",
    "#     else:\n",
    "#         return False\n",
    "\n",
    "\"\"\"Teste de primalidade de Miller-Rabin. Detalhes: https://rosettacode.org/wiki/Miller%E2%80%93Rabin_primality_test#Python:_Probably_correct_answers e https://en.wikipedia.org/wiki/Miller%E2%80%93Rabin_primality_test\"\"\"\n",
    "def is_prime(n, _precision_for_huge_n=16):\n",
    "    def is_prime_trial_division(n: int) -> bool:\n",
    "        '''Testa se dado inteiro n é primo por tentativa de divisões'''\n",
    "        if n == 2:\n",
    "            return True\n",
    "        if n < 2 or n % 2 == 0:\n",
    "            return False\n",
    "        for i in range(3, math.ceil(math.sqrt(n)), 2):\n",
    "            if n % i == 0:\n",
    "                return False\n",
    "        return True\n",
    "    \n",
    "    _known_primes = [2] + \\\n",
    "        [x for x in range(3, 1000, 2) if is_prime_trial_division(x)]\n",
    "\n",
    "    def _try_composite(a, d, n, s):\n",
    "        if pow(a, d, n) == 1:\n",
    "            return False\n",
    "        for i in range(s):\n",
    "            if pow(a, 2**i * d, n) == n-1:\n",
    "                return False\n",
    "        return True # n  is definitely composite\n",
    " \n",
    "    if n in _known_primes:\n",
    "        return True\n",
    "    if any((n % p) == 0 for p in _known_primes) or n in (0, 1):\n",
    "        return False\n",
    "    d, s = n - 1, 0\n",
    "    while not d % 2:\n",
    "        d, s = d >> 1, s + 1\n",
    "    # Returns exact according to http://primes.utm.edu/prove/prove2_3.html\n",
    "    if n < 1373653: \n",
    "        return not any(_try_composite(a, d, n, s) for a in (2, 3))\n",
    "    if n < 25326001: \n",
    "        return not any(_try_composite(a, d, n, s) for a in (2, 3, 5))\n",
    "    if n < 118670087467: \n",
    "        if n == 3215031751: \n",
    "            return False\n",
    "        return not any(_try_composite(a, d, n, s) for a in (2, 3, 5, 7))\n",
    "    if n < 2152302898747: \n",
    "        return not any(_try_composite(a, d, n, s) for a in (2, 3, 5, 7, 11))\n",
    "    if n < 3474749660383: \n",
    "        return not any(_try_composite(a, d, n, s) for a in (2, 3, 5, 7, 11, 13))\n",
    "    if n < 341550071728321: \n",
    "        return not any(_try_composite(a, d, n, s) for a in (2, 3, 5, 7, 11, 13, 17))\n",
    "    # otherwise\n",
    "    return not any(_try_composite(a, d, n, s) \n",
    "                   for a in _known_primes[:_precision_for_huge_n])\n",
    "\n",
    "\n",
    "def generate_big_prime_pair(b):\n",
    "    p = random.getrandbits(b)\n",
    "    q = random.getrandbits(b)\n",
    "\n",
    "    while not is_prime(p):\n",
    "        p = random.getrandbits(b)\n",
    "    \n",
    "    while not is_prime(q) or p == q:\n",
    "        q = random.getrandbits(b)\n",
    "\n",
    "    return (p, q)   \n",
    "\n",
    "def I2OSP(x: int, l: int):\n",
    "    \"\"\"Integer-to-Octet-String, responsável por converter um inteiro em BASE64.\n",
    "       Detalhes:\"https://www.inf.pucrs.br/calazans/graduate/TPVLSI_I/RSA-oaep_spec.pdf, seção 1.1.2\"\"\"\n",
    "    \n",
    "    # conversão para base 256 com tamanho l\n",
    "    try:\n",
    "        return x.to_bytes(l, byteorder='big')\n",
    "    except OverflowError:\n",
    "        return x.to_bytes((l+7)//8, byteorder='big')\n",
    "        \n",
    "\n",
    "def OS2IP(X: bytes):\n",
    "    \"\"\"Octet-String-to-Integer, responsável por converter o texto BASE64 em um inteiro\n",
    "       Detalhes:\"https://www.inf.pucrs.br/calazans/graduate/TPVLSI_I/RSA-oaep_spec.pdf, seção 1.1.2\"\"\"\n",
    "    return int.from_bytes(X, byteorder='big')\n",
    "\n",
    "def OS2B64(X: bytes):\n",
    "    \"\"\"Converte um octeto em BASE64\"\"\"\n",
    "    return base64.b64encode(X)\n",
    "\n",
    "def B642OS(x: str):\n",
    "    \"\"\"Converte um BASE64 em octeto\"\"\"\n",
    "    return base64.b64decode(x)\n",
    "\n",
    "def I2B64(x: int):\n",
    "    \"\"\"Converte um inteiro em BASE64\"\"\"\n",
    "    return base64.b64encode(str(x).encode())\n",
    "\n",
    "def B64concat(a64: str, b64: str) -> str:\n",
    "    \"\"\"Concatena dois BASE64\"\"\"\n",
    "    _a = base64.b64decode(a64)\n",
    "    _b = base64.b64decode(b64)\n",
    "    return base64.b64encode(_a + _b)\n",
    "\n",
    "def bitwise_xor(a: bytes, b: bytes):\n",
    "    \"\"\"Operação XOR entre dois bytes\"\"\"\n",
    "    r=b\"\"\n",
    "    \n",
    "    for i in range(max(len(a), len(b))):\n",
    "        if i >= len(a):\n",
    "            r += b[i].to_bytes(1, byteorder='big')\n",
    "        elif i >= len(b):\n",
    "            r += a[i].to_bytes(1, byteorder='big')\n",
    "        else:\n",
    "            r += (a[i] ^ b[i]).to_bytes(1, byteorder='big')\n",
    "    \n",
    "    return r\n",
    "\n",
    "def key_len(key: Key):\n",
    "    \"\"\"Retorna o número de octetos do modulo n da chave\"\"\"\n",
    "    _, n = key\n",
    "    return math.ceil(n.bit_length() / 8)"
   ]
  },
  {
   "cell_type": "markdown",
   "metadata": {},
   "source": [
    "### Geração de chaves"
   ]
  },
  {
   "cell_type": "code",
   "execution_count": 529,
   "metadata": {},
   "outputs": [],
   "source": [
    "def generate_keypair() -> tuple[Key, Key]:\n",
    "    p, q = generate_big_prime_pair(1024)\n",
    "    \n",
    "    n = p * q\n",
    "    phi = (p - 1) * (q - 1)\n",
    "    \n",
    "    e = generate_public_key(phi)\n",
    "    d = generate_private_key(e, phi)\n",
    "    \n",
    "    return ((e, n), (d, n))\n",
    "\n",
    "def generate_public_key(phi: int):\n",
    "    # A chave pública e é um número primo tal que 1 < e < φ(n) e mdc(e, φ(n)) = 1\n",
    "    e = random.randrange(2, phi)\n",
    "    \n",
    "    while not is_prime(e):\n",
    "        e = random.randrange(2, phi)\n",
    "    \n",
    "    return e\n",
    "\n",
    "def generate_private_key(e: int, phi: int):\n",
    "    # A chave privada d é um número tal que e*d ≡ 1 mod φ(n)\n",
    "    d = pow(e, -1, phi)\n",
    "    \n",
    "    return d"
   ]
  },
  {
   "cell_type": "markdown",
   "metadata": {},
   "source": [
    "#### RSA"
   ]
  },
  {
   "cell_type": "code",
   "execution_count": 530,
   "metadata": {},
   "outputs": [],
   "source": [
    "def RSA_encode(key: Key, m: bytes) -> bytes:\n",
    "    e, n = key\n",
    "    \n",
    "    M = OS2IP(m)\n",
    "    \n",
    "    return I2OSP(pow(M, e, n), key_len(key))\n",
    "\n",
    "def RSA_decode(key: Key, c: bytes) -> bytes:\n",
    "    d, n = key\n",
    "    \n",
    "    C = OS2IP(c)\n",
    "    \n",
    "    return I2OSP(pow(C, d, n), key_len(key))"
   ]
  },
  {
   "cell_type": "markdown",
   "metadata": {},
   "source": [
    "#### Padding e criptografia e descriptografia\n",
    "Detalhes: https://www.inf.pucrs.br/calazans/graduate/TPVLSI_I/RSA-oaep_spec.pdf, seção 1.3."
   ]
  },
  {
   "cell_type": "code",
   "execution_count": 531,
   "metadata": {},
   "outputs": [],
   "source": [
    "\n",
    "def MGF(Z: bytes, l: int):\n",
    "    \"\"\"MGF utilizando o Hash SHA-3\"\"\"\n",
    "    \n",
    "    # hLen denota o comprimento dos octetos da saída da função hash\n",
    "    hLen = hashlib.sha3_256().digest_size\n",
    "    \n",
    "    if l > 2**32 * hLen:\n",
    "        raise ValueError(\"Máscara muito longa.\")\n",
    "    \n",
    "    T = b\"\"\n",
    "    \n",
    "    for i in range(math.ceil(l / hLen)):\n",
    "        # Converte i em um octeto C de tamanho 4 com a primitiva I2OSP.\n",
    "        C = I2OSP(i, 4)\n",
    "        # Concatena o resultado do hash SHA-3 de seed Z e C com T.\n",
    "        T += hashlib.sha3_256(Z + C).digest()\n",
    "    \n",
    "    # A máscara M é a string consistindo dos primeiros l octetos de T.\n",
    "    return T[:l]\n",
    "\n",
    "def OAEP_encode(M: bytes, emLen: int, P: bytes = b\"\"):\n",
    "    \"\"\"Encode de OAEP utilizando o Hash SHA-3\"\"\"\n",
    "\n",
    "    hLen = hashlib.sha3_256().digest_size\n",
    "    mLen = len(M)\n",
    "    \n",
    "    if mLen > emLen - 2 * hLen - 2:\n",
    "        raise ValueError(\"Mensagem muito grande.\")\n",
    "    \n",
    "    # Geração de uma string de octetos de comprimento (emLen - mLen - 2 * hLen - 2) \n",
    "    # consistindo de zeros.\n",
    "    PS = b\"\\x00\" * (emLen - mLen - 2 * hLen - 2)\n",
    "    \n",
    "    pHash = hashlib.sha3_256(P).digest()\n",
    "    \n",
    "    # Concatenação de pHash, PS, um octeto 0x01 e a mensagem M no bloco de dados DB.\n",
    "    DB = pHash + PS + b\"\\x01\" + M\n",
    "    \n",
    "    seed = random.getrandbits(hLen * 8).to_bytes(hLen, byteorder='big')\n",
    "    \n",
    "    # Mascaramento do bloco de dados\n",
    "    dbMask = MGF(seed, emLen - hLen - 1)\n",
    "    maskedDB = bitwise_xor(DB, dbMask)\n",
    "\n",
    "    # Mascaramento da seed\n",
    "    seedMask = MGF(maskedDB, hLen)\n",
    "    maskedSeed = bitwise_xor(seed, seedMask)\n",
    "    \n",
    "    return b'\\x00' + maskedSeed + maskedDB\n",
    "\n",
    "def OAEP_decode(EM: bytes, P: bytes = b\"\"):\n",
    "    \"\"\"Decode de OAEP utilizando o Hash SHA-3\"\"\"\n",
    "    hLen = hashlib.sha3_256().digest_size\n",
    "    emLen = len(EM)\n",
    "    \n",
    "    if emLen < 2 * hLen + 2:\n",
    "        raise ValueError(\"Erro na decodificação. Tamanho de EM inválido.\")\n",
    "    \n",
    "    maskedSeed = EM[1: 1 + hLen]\n",
    "    maskedDB = EM[1 + hLen:]\n",
    "    \n",
    "    seedMask = MGF(maskedDB, hLen)\n",
    "    seed = bitwise_xor(maskedSeed, seedMask)\n",
    "    \n",
    "    dbMask = MGF(seed, emLen - hLen - 1)\n",
    "    DB = bitwise_xor(maskedDB, dbMask)\n",
    "    \n",
    "    pHash = hashlib.sha3_256(P).digest()\n",
    "    \n",
    "    # Separa a mensagem supondo o formato 00 || pHash_ || PS || 01 || M\n",
    "    pHash_ = DB[:hLen]\n",
    "    \n",
    "    if pHash != pHash_:\n",
    "        raise ValueError(\"Erro na decodifiocação.\")\n",
    "    \n",
    "    # Busca o byte 01 após o padding.\n",
    "    i = hLen\n",
    "    while DB[i] == 0:\n",
    "        i += 1\n",
    "    \n",
    "    if DB[i] != 1:\n",
    "        raise ValueError(\"Byte 0x01 não encontrado.\")\n",
    "    \n",
    "    return DB[i+1:]\n"
   ]
  },
  {
   "cell_type": "markdown",
   "metadata": {},
   "source": [
    "#### Criptografia e descriptografia"
   ]
  },
  {
   "cell_type": "code",
   "execution_count": 532,
   "metadata": {},
   "outputs": [],
   "source": [
    "def encrypt(key: Key, M64: str, P: bytes = b\"\"):\n",
    "    \"\"\"\"Criptografa a mensagem usando RSA-OAEP\"\"\"\n",
    "    try:\n",
    "        e, _ = key\n",
    "        \n",
    "        M = B642OS(M64)\n",
    "        \n",
    "        emLen = key_len(key)\n",
    "        \n",
    "        EM = OAEP_encode(M, emLen, P)\n",
    "\n",
    "        C = RSA_encode(key, EM)\n",
    "        \n",
    "        C64 = OS2B64(C)\n",
    "        \n",
    "        return C64\n",
    "    \n",
    "    except ValueError as e:\n",
    "        print(f\"Erro: {e}\")\n",
    "        return None\n",
    "    \n",
    "def decrypt(key: Key,  C64: str, P: bytes = b\"\"):\n",
    "    \"\"\"\"Descriptografa a mensagem usando RSA-OAEP\"\"\"\n",
    "    try:\n",
    "        C = B642OS(C64)\n",
    "        \n",
    "        EM = RSA_decode(key, C)\n",
    "        \n",
    "        M = OAEP_decode(EM, P)\n",
    "        \n",
    "        M64 = OS2B64(M)\n",
    "        \n",
    "        return M64\n",
    "    \n",
    "    except ValueError as e:\n",
    "        print(f\"Erro: {e}\")\n",
    "        return None\n",
    "\n",
    "    "
   ]
  },
  {
   "cell_type": "markdown",
   "metadata": {},
   "source": [
    "#### Teste"
   ]
  },
  {
   "cell_type": "code",
   "execution_count": 533,
   "metadata": {},
   "outputs": [
    {
     "name": "stdout",
     "output_type": "stream",
     "text": [
      "Chave pública: NDEzNTY2MTExMTE5ODAxMjA0OTAzMjQ1MjI0Mzk1MTc3OTczODk3NzYyMzQ1Mjg0ODc1NTIyNDAwNTcxODU1NTY1NDIxOTMzNTM2NjAxNzg5MjUxNzE2NzkyMjg4OTIxNzc2Nzk2MzYzNDU2MjIxNjc0NzEzOTM4MDI3ODYzNDc0NzE3MDAyNTE5MjAwMjU0Njc5Njk5NjA1NzgzMjUyMTI3MTc3ODMxMjE2NDYyOTQxNTIzNjYxODY3Mjc1NjYwOTIwMTM2MDA3NTIyMDQzODMzNzg4NzkwODAzMjUwNjUwMDQyNjkxNzI1NjgxMDYyMjAxNDcyNjQ3OTI0NTQxNjA2ODcyNjY4ODMyNzQxMjYwMTU3MzcyNDQ0MjYxOTg3NzM5MjA4ODc2Njg1NjI2Mzg5NzgwNDA3MjkyODE5OTk5MzkwMzQ3OTE2ODg1OTU5OTQ3Mjk5NjM1MzU3MzI0ODI3OTI3ODIwMDQ1MzcxMTM5Mzk2NzgyNTE2NTU1MTA1ODYyNjQ5MjczMDUwMzU0MzcxNzg2MzY3MDU2NTIyMzQzODkwMTA4NDQ5NDQwNTY3NDY4NjUzOTcwNDEwMTQ5Njk1ODEwOTU2OTU1NTAzMzIyODQzMzkyMTg4NTgzNzA0MTE0MjIzNDEyOTQyODg2NzY0OTUwOTc5ODMxMzU0NTUyNDMxODc4MzM5NDY1MTIzMDI1NjA4NzI1OTI1MjIzMTcyNDcwOTUwODkzMjYxODM1MjU1MDM3ODY5NDI1MzczODM5NjE2MTA2Mjc1MTgyMTE2NTE3MjE1Mzk5MjI4ODkyNzA3NTgz\n",
      "Chave privada: NjgyMTk1OTY2OTU3NzExMTk0MDI5OTExOTkzMzk2MDA1NTYyODMxNjY5MDgxNDQzMTk4NzY2NDg1NzYwMDg3MTY3MjUyNzgxODQzOTU5MzU4NjAzMDk0MzkzNDg0MDc5MTE1NDI2NDEwNDk1MTMxMzM1MDk1NDQ5Mjk1MTAxNzE2NTAwMTQxOTY2ODQ4NDc2NTUyNzc0NzEzMzY2NDQ1Mjc4ODg0MjI2NjU3MTc1MTY1MjA4ODExNzA5NjI0MDYxNTc1NTAzNDUzMzAwMTk0MzAwMzQzNzM5MTE1NjMxMzUzNzY4ODUxNTgwMzU0MzUyMzUzOTcwODEyMzYzMDMzMjQzMTIyMzcxNjEwODQyNzM2NzExNzcyMTYyMDE1NDI4Mzg3NjIwNjY5NDE4NjIyOTk5NDk0MzY2MDI2MDExMDg0OTkzNzE1NTU5Nzc5NDUyMzA4ODU4MzA4MTMxOTQ3NzUyODU5NDc0NTMwODkwMzEzNzQ0MDA0NTk0MTU2NjU0MDczMzA0NjQ3MjYzOTYxNzQ0MzExOTA0MjI2MzYzNjc1NjEyMjM4NzI5Mzc3NzczNjg4MTY1MDE3OTU5MDM1ODI0Mzk3OTM2MTY4NDEwNDkyNjIwNDcwNDQxMTk4NjEzNjM0NTgzNzE2OTU5MjA5MzQyNTk3NjQ3MjY0Njg4NzYyOTA5Mjk1NDU2NjU5OTkyMzg0MzM1NDUyMDM4ODA2Mjg1Nzg3MjYxMjYxODEyNDU0NzU2MDEwNDE5ODEyMTI1NjM4Mzk4NTQxMDgzOTY0NzkzMzIxNTExMTYwMzI4NDQwNzU3NjMx\n"
     ]
    }
   ],
   "source": [
    "public_key, private_key = generate_keypair()\n",
    "\n",
    "print(f\"Chave pública: {I2B64(public_key[0])}\")\n",
    "print(f\"Chave privada: {I2B64(private_key[0])}\")"
   ]
  },
  {
   "cell_type": "code",
   "execution_count": 545,
   "metadata": {},
   "outputs": [
    {
     "name": "stdout",
     "output_type": "stream",
     "text": [
      "Mensagem original: Rm9vYmFyIHN1cHJlbWFjeSE=\n",
      "Mensagem cifrada: ALIWwHddC4BA5Q8tOVf8sTklzgP4G/Jlsih+/gQhGSzRHwMKNN2xIQ4oYJQACQPNFkZwz25t9XPn1daDYtGGi1sSAb478IceM0Bu9p9Ur0248N1CUHCeq3djPvNDNOCC80xLDWU/t04X1fPfYFvFKElo40sJGPLuNIftTnhZ2IQpTqFQT6xzKpJIXYP3RjMxoASA3Iffny/GlqQ6M/ZvR4fxk4YagVvy8kLTYVB7SsuabD+JnRz5xyeZBFN8dAIooBtBEy6GZFI3mhYjgCQs9oodWYoDZQrWyn5LqDdOGhxghKZEWGec7TxxffODzLjkvOy3daX2b7jUCwDHt4zQ2w==\n",
      "Mensagem decifrada: Rm9vYmFyIHN1cHJlbWFjeSE=\n",
      "Sucesso!\n"
     ]
    }
   ],
   "source": [
    "M = OS2B64(b\"Foobar supremacy!\")\n",
    "\n",
    "print(f\"Mensagem original: {M}\")\n",
    "\n",
    "C = encrypt(public_key, M)\n",
    "\n",
    "M_ = decrypt(private_key, C)\n",
    "\n",
    "print(f\"Mensagem cifrada: {C}\")\n",
    "\n",
    "print(f\"Mensagem decifrada: {M_}\")\n",
    "\n",
    "if M == M_:\n",
    "    print(\"Sucesso!\")\n",
    "else:\n",
    "    print(\"Falha!\")"
   ]
  },
  {
   "cell_type": "markdown",
   "metadata": {},
   "source": [
    "## $\\text{Parte II}$\n",
    "### Assinatura"
   ]
  },
  {
   "cell_type": "code",
   "execution_count": 535,
   "metadata": {},
   "outputs": [],
   "source": [
    "\n",
    "def sign(key: Key, M64: str):\n",
    "    \"\"\"Assinatura digital usando RSA\"\"\"\n",
    "    hashedM = OS2B64(hashlib.sha3_256(B642OS(M64)).digest())\n",
    "\n",
    "    encryptedHash = encrypt(key, hashedM)\n",
    "    \n",
    "    return B64concat(encryptedHash, M64)"
   ]
  },
  {
   "cell_type": "markdown",
   "metadata": {},
   "source": [
    "## $\\text{Parte III}$\n",
    "### Verificação"
   ]
  },
  {
   "cell_type": "code",
   "execution_count": 536,
   "metadata": {},
   "outputs": [],
   "source": [
    "def verify(key: Key, signedM: str):\n",
    "    \"\"\"Verificação da assinatura digital usando RSA\"\"\"\n",
    "    emLen = key_len(key)\n",
    "    \n",
    "    # Como emLen indica um tamanho em bytes, essa conversão é necessária\n",
    "    OSsignedM = B642OS(signedM)\n",
    "    \n",
    "    encryptedHash = OS2B64(OSsignedM[:emLen])\n",
    "\n",
    "    decryptedHash = decrypt(key, encryptedHash)\n",
    "    \n",
    "    hashedM = OS2B64(hashlib.sha3_256(OSsignedM[emLen:]).digest())\n",
    "    \n",
    "    return hashedM == decryptedHash"
   ]
  },
  {
   "cell_type": "markdown",
   "metadata": {},
   "source": [
    "## Criptografia + Assinatura de arquivo"
   ]
  },
  {
   "cell_type": "code",
   "execution_count": 537,
   "metadata": {},
   "outputs": [],
   "source": [
    "with open(\"lorem.txt\", \"rb\") as f:   \n",
    "    # Byte string convertida em Base64\n",
    "    M = base64.b64encode(f.read())\n",
    "    signedM = sign(private_key, M)\n",
    "\n",
    "    \n",
    "    if signedM:\n",
    "        with open(\"lorem_signed.txt\", \"wb\") as f:\n",
    "            f.write(signedM.encode())"
   ]
  },
  {
   "cell_type": "code",
   "execution_count": 538,
   "metadata": {},
   "outputs": [
    {
     "name": "stdout",
     "output_type": "stream",
     "text": [
      "True\n"
     ]
    }
   ],
   "source": [
    "with open(\"lorem_signed.txt\", \"rb\") as f:  \n",
    "    # Byte string tornada string (já formatada em Base64)\n",
    "    C = f.read().decode()\n",
    "    \n",
    "    M_ = verify(public_key, C)\n",
    "        \n",
    "print(M_)\n",
    "    \n"
   ]
  },
  {
   "cell_type": "markdown",
   "metadata": {},
   "source": [
    "# Benchmark da função geradora de chaves"
   ]
  },
  {
   "cell_type": "code",
   "execution_count": 543,
   "metadata": {},
   "outputs": [],
   "source": [
    "t1 = time.time()\n",
    "\n",
    "for _ in range(100):\n",
    "    generate_keypair()\n",
    "    \n",
    "t2 = time.time()"
   ]
  },
  {
   "cell_type": "code",
   "execution_count": 544,
   "metadata": {},
   "outputs": [
    {
     "name": "stdout",
     "output_type": "stream",
     "text": [
      "Tempo médio de execução: 16.4 segundos.\n"
     ]
    }
   ],
   "source": [
    "print(f\"Tempo médio de execução: {((t2 - t1)/100):.1f} segundos.\")"
   ]
  }
 ],
 "metadata": {
  "kernelspec": {
   "display_name": "UnB_SegComp",
   "language": "python",
   "name": "python3"
  },
  "language_info": {
   "codemirror_mode": {
    "name": "ipython",
    "version": 3
   },
   "file_extension": ".py",
   "mimetype": "text/x-python",
   "name": "python",
   "nbconvert_exporter": "python",
   "pygments_lexer": "ipython3",
   "version": "3.13.0"
  }
 },
 "nbformat": 4,
 "nbformat_minor": 2
}
