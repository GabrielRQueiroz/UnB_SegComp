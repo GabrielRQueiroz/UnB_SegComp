{
 "cells": [
  {
   "cell_type": "code",
   "execution_count": 2,
   "metadata": {},
   "outputs": [],
   "source": [
    "from bitarray import bitarray\n",
    "import numpy as np"
   ]
  },
  {
   "cell_type": "markdown",
   "metadata": {},
   "source": [
    "## Geração de chaves subjacentes"
   ]
  },
  {
   "cell_type": "code",
   "execution_count": 3,
   "metadata": {},
   "outputs": [
    {
     "name": "stdout",
     "output_type": "stream",
     "text": [
      "K:      [1 0 1 0 0 0 0 0 1 0]\n",
      "P10(K): [1 0 0 0 0 0 1 1 0 0]\n"
     ]
    }
   ],
   "source": [
    "def permutation_p10(key):\n",
    "    idexes = [2,4,1,6,3,9,0,8,7,5];\n",
    "    key = np.array(key.tolist())\n",
    "    key_p10 = key[idexes]\n",
    "    return key_p10\n",
    "\n",
    "example_key = bitarray('1010000010')\n",
    "P10_example_key = permutation_p10(example_key)\n",
    "\n",
    "print(\"K:     \", np.array(example_key.tolist()))\n",
    "print(\"P10(K):\", P10_example_key)"
   ]
  },
  {
   "cell_type": "code",
   "execution_count": 4,
   "metadata": {},
   "outputs": [
    {
     "name": "stdout",
     "output_type": "stream",
     "text": [
      "P10(K): [1 0 0 0 0 0 1 1 0 0]\n",
      "K_LR1:  [0 0 0 0 1 1 1 0 0 0]\n"
     ]
    }
   ],
   "source": [
    "def subkeys_single_shift(key):\n",
    "    key = np.array(key.tolist())\n",
    "    key_left = key[:5]\n",
    "    key_right = key[5:]\n",
    "    key_left_shift = np.roll(key_left, -1)\n",
    "    key_right_shift = np.roll(key_right, -1)\n",
    "    return np.concatenate((key_left_shift, key_right_shift))\n",
    "\n",
    "K_LR1_example = subkeys_single_shift(P10_example_key) \n",
    "print(\"P10(K):\", P10_example_key)\n",
    "print(\"K_LR1: \", K_LR1_example)"
   ]
  },
  {
   "cell_type": "code",
   "execution_count": 5,
   "metadata": {},
   "outputs": [
    {
     "name": "stdout",
     "output_type": "stream",
     "text": [
      "K_LR1:     [0 0 0 0 1 1 1 0 0 0]\n",
      "P8(K_LR1): [1 0 1 0 0 1 0 0] = K_1\n"
     ]
    }
   ],
   "source": [
    "def permutation_p8(key):\n",
    "    idexes = [5,2,6,3,7,4,9,8]\n",
    "    key = np.array(key.tolist())\n",
    "    key_p8 = key[idexes]\n",
    "    return key_p8\n",
    "\n",
    "print(\"K_LR1:    \", K_LR1_example)\n",
    "P8_K1_example_key = permutation_p8(K_LR1_example)\n",
    "print(\"P8(K_LR1):\", P8_K1_example_key, \"= K_1\")\n",
    "\n"
   ]
  },
  {
   "cell_type": "code",
   "execution_count": 6,
   "metadata": {},
   "outputs": [
    {
     "name": "stdout",
     "output_type": "stream",
     "text": [
      "K_LR1:     [0 0 0 0 1 1 1 0 0 0]\n",
      "K_LR2:     [0 0 1 0 0 0 0 0 1 1]\n",
      "P8(K_LR2): [0 1 0 0 0 0 1 1] = K_2\n"
     ]
    }
   ],
   "source": [
    "def subkeys_double_shift(key):\n",
    "    key = np.array(key.tolist())\n",
    "    key_left = key[:5]\n",
    "    key_right = key[5:]\n",
    "    key_left_shift = np.roll(key_left, -2)\n",
    "    key_right_shift = np.roll(key_right, -2)\n",
    "    return np.concatenate((key_left_shift, key_right_shift))\n",
    "\n",
    "K_LR2_example = subkeys_double_shift(K_LR1_example)\n",
    "P8_K2_example_key = permutation_p8(K_LR2_example)\n",
    "print(\"K_LR1:    \", K_LR1_example)\n",
    "print(\"K_LR2:    \", K_LR2_example)\n",
    "print(\"P8(K_LR2):\", P8_K2_example_key, \"= K_2\")"
   ]
  },
  {
   "cell_type": "markdown",
   "metadata": {},
   "source": [
    "## Permutação inicial $PI$"
   ]
  },
  {
   "cell_type": "code",
   "execution_count": 7,
   "metadata": {},
   "outputs": [
    {
     "name": "stdout",
     "output_type": "stream",
     "text": [
      "P:            [1 1 0 1 0 1 1 0]\n",
      "IP(P):        [1 1 0 1 1 0 0 1]\n",
      "IP^-1(IP(P)): [1 1 0 1 0 1 1 0]\n"
     ]
    }
   ],
   "source": [
    "def initial_permutation(plaintext):\n",
    "    idexes = [1,5,2,0,3,7,4,6]\n",
    "    plaintext = np.array(plaintext.tolist())\n",
    "    plaintext_ip = plaintext[idexes]\n",
    "    return plaintext_ip\n",
    "\n",
    "def inverse_initial_permutation(plaintext):\n",
    "    idexes = [3,0,2,4,6,1,7,5]\n",
    "    plaintext = np.array(plaintext.tolist())\n",
    "    plaintext_ip = plaintext[idexes]\n",
    "    return plaintext_ip\n",
    "\n",
    "\n",
    "plaintext_example = bitarray('11010110')\n",
    "IP_example = initial_permutation(plaintext_example)\n",
    "print(\"P:           \", np.array(plaintext_example.tolist()))\n",
    "print(\"IP(P):       \", IP_example)\n",
    "print(\"IP^-1(IP(P)):\", inverse_initial_permutation(IP_example))"
   ]
  },
  {
   "cell_type": "markdown",
   "metadata": {},
   "source": [
    "## Função F"
   ]
  },
  {
   "cell_type": "code",
   "execution_count": 8,
   "metadata": {},
   "outputs": [
    {
     "name": "stdout",
     "output_type": "stream",
     "text": [
      "R:       [1 1 0 1]\n",
      "K:       [0 0 1 0 0 0 1 1]\n",
      "f(R,K):  [1 1 1 0]\n"
     ]
    }
   ],
   "source": [
    "def expansion_permutation(right_half):\n",
    "    idexes = [3,0,1,2,1,2,3,0]\n",
    "    right_half = np.array(right_half)\n",
    "    right_half_ep = right_half[idexes]\n",
    "    return right_half_ep\n",
    "\n",
    "def S0(input):\n",
    "    S0 = [\n",
    "        [1,0,3,2],\n",
    "        [3,2,1,0],\n",
    "        [0,2,1,3],\n",
    "        [3,1,3,2]\n",
    "    ]\n",
    "    # Aqui, há conversão manual de base binária para decimal\n",
    "    row = int(input[0])*2 + int(input[3])\n",
    "    column = int(input[1])*2 + int(input[2])\n",
    "    binary = np.binary_repr(S0[row][column], 2)\n",
    "    return bitarray(binary).tolist()\n",
    "\n",
    "def S1(input):\n",
    "    S1 = [\n",
    "        [0,1,2,3],\n",
    "        [2,0,1,3],\n",
    "        [3,0,1,0],\n",
    "        [2,1,0,3]\n",
    "    ]\n",
    "    row = int(input[0])*2 + int(input[3])\n",
    "    column = int(input[1])*2 + int(input[2])\n",
    "    binary = np.binary_repr(S1[row][column], 2)\n",
    "    return bitarray(binary).tolist()\n",
    "\n",
    "def P4(P4_input):\n",
    "    idexes = [1,3,2,0]\n",
    "    P4_input = np.array(P4_input)\n",
    "    P4_output = P4_input[idexes]\n",
    "    return P4_output\n",
    "\n",
    "def F_function(half, subkey):\n",
    "    half = half.tolist()\n",
    "    subkey = subkey.tolist()\n",
    "    \n",
    "    half_ep = expansion_permutation(half)\n",
    "    half_xor = np.logical_xor(half_ep, subkey)\n",
    "\n",
    "    S0_input = half_xor[:4]\n",
    "    S1_input = half_xor[4:]\n",
    "\n",
    "    S0_S1 = np.concatenate([S0(S0_input), S1(S1_input)])\n",
    "\n",
    "    return P4(S0_S1)\n",
    "\n",
    "right_half_example = bitarray('1101')\n",
    "subkey_example = bitarray('00100011')\n",
    "print(\"R:      \", np.array(right_half_example.tolist()))\n",
    "print(\"K:      \", np.array(subkey_example.tolist()))\n",
    "print(\"f(R,K): \", F_function(right_half_example, subkey_example))"
   ]
  },
  {
   "cell_type": "markdown",
   "metadata": {},
   "source": [
    "## Função de substituição"
   ]
  },
  {
   "cell_type": "code",
   "execution_count": 9,
   "metadata": {},
   "outputs": [
    {
     "name": "stdout",
     "output_type": "stream",
     "text": [
      "SW:  [0 0 1 1 1 1 0 0]\n"
     ]
    }
   ],
   "source": [
    "def switch(plaintext):\n",
    "    plaintext_left = plaintext[:4]\n",
    "    plaintext_right = plaintext[4:]\n",
    "    return np.concatenate((plaintext_right.tolist(), plaintext_left.tolist()))\n",
    "\n",
    "print(\"SW: \", switch(bitarray('11000011')))\n"
   ]
  },
  {
   "cell_type": "markdown",
   "metadata": {},
   "source": [
    "## Rodada de Feistel"
   ]
  },
  {
   "cell_type": "code",
   "execution_count": 10,
   "metadata": {},
   "outputs": [
    {
     "name": "stdout",
     "output_type": "stream",
     "text": [
      "f(L,R,K):  [0 1 0 1 1 1 0 1]\n"
     ]
    }
   ],
   "source": [
    "def feistel_round(L, R, subkey):\n",
    "    F_output = F_function(R, subkey)\n",
    "    new_left = np.bitwise_xor(np.array(L.tolist()), F_output)\n",
    "    cipher_text = np.concatenate((new_left, R.tolist()))\n",
    "    return cipher_text\n",
    "\n",
    "feistel_plaintext_example = bitarray('10111101')\n",
    "print(\"f(L,R,K): \", feistel_round(feistel_plaintext_example[:4], \n",
    "                                feistel_plaintext_example[4:], \n",
    "                                subkey_example))"
   ]
  },
  {
   "cell_type": "markdown",
   "metadata": {},
   "source": [
    "## Trabalho"
   ]
  },
  {
   "cell_type": "code",
   "execution_count": 11,
   "metadata": {},
   "outputs": [],
   "source": [
    "key = bitarray('1010000010')\n",
    "plaintext = bitarray('11010111')"
   ]
  },
  {
   "cell_type": "markdown",
   "metadata": {},
   "source": [
    "### Etapa 1: Gerar chaves subjacentes"
   ]
  },
  {
   "cell_type": "code",
   "execution_count": 12,
   "metadata": {},
   "outputs": [
    {
     "name": "stdout",
     "output_type": "stream",
     "text": [
      "K: [1 0 1 0 0 0 0 0 1 0]\n",
      "K1: [1 0 1 0 0 1 0 0]\n",
      "K2: [0 1 0 0 0 0 1 1]\n"
     ]
    }
   ],
   "source": [
    "K_arr = np.array(key.tolist())\n",
    "print(\"K:\", K_arr)\n",
    "\n",
    "# Permutação P10 ➡️ Deslocamento circular ➡️ Permutação P8 ➡️ Deslocamento circular duplo ➡️ Permutação P8\n",
    "K_P10 = permutation_p10(key)\n",
    "K_LR1 = subkeys_single_shift(K_P10)\n",
    "K1 = permutation_p8(K_LR1)\n",
    "K_LR2 = subkeys_double_shift(K_LR1)\n",
    "K2 = permutation_p8(K_LR2)\n",
    "\n",
    "print(\"K1:\", K1)\n",
    "print(\"K2:\", K2)"
   ]
  },
  {
   "cell_type": "markdown",
   "metadata": {},
   "source": [
    "### Erapa 2: Permutação inicial $PI$"
   ]
  },
  {
   "cell_type": "code",
   "execution_count": 13,
   "metadata": {},
   "outputs": [
    {
     "name": "stdout",
     "output_type": "stream",
     "text": [
      "Blodo permutado:  [1 1 0 1 1 1 0 1]\n"
     ]
    }
   ],
   "source": [
    "plaintext = initial_permutation(plaintext)\n",
    "print('Blodo permutado: ', plaintext)"
   ]
  },
  {
   "cell_type": "markdown",
   "metadata": {},
   "source": [
    "### Etapa 3: Dividir em metades"
   ]
  },
  {
   "cell_type": "code",
   "execution_count": 14,
   "metadata": {},
   "outputs": [
    {
     "name": "stdout",
     "output_type": "stream",
     "text": [
      "L: [1 1 0 1]\n",
      "R: [1 1 0 1]\n"
     ]
    }
   ],
   "source": [
    "L, R = plaintext[:4], plaintext[4:]\n",
    "print('L:', L)\n",
    "print('R:', R)"
   ]
  },
  {
   "cell_type": "markdown",
   "metadata": {},
   "source": [
    "### Etapa 4: Rodadas de Feistel"
   ]
  },
  {
   "cell_type": "code",
   "execution_count": 15,
   "metadata": {},
   "outputs": [
    {
     "name": "stdout",
     "output_type": "stream",
     "text": [
      "C1 (antes do switch): [0 0 1 0 1 1 0 1]\n",
      "C1:                   [1 1 0 1 0 0 1 0]\n",
      "C2:                   [0 0 1 1 0 0 1 0]\n"
     ]
    }
   ],
   "source": [
    "C1 = feistel_round(L, R, K1)\n",
    "print('C1 (antes do switch):', C1)\n",
    "\n",
    "C1 = switch(C1)\n",
    "print('C1:                  ', C1)\n",
    "\n",
    "C1_L, C1_R = C1[:4], C1[4:]\n",
    "\n",
    "C2 = feistel_round(C1_L, C1_R, K2)\n",
    "print('C2:                  ', C2)"
   ]
  },
  {
   "cell_type": "markdown",
   "metadata": {},
   "source": [
    "### Etapa 5: Permutação final"
   ]
  },
  {
   "cell_type": "code",
   "execution_count": 16,
   "metadata": {},
   "outputs": [
    {
     "name": "stdout",
     "output_type": "stream",
     "text": [
      "Texto cifrado: [1 0 1 0 1 0 0 0]\n"
     ]
    }
   ],
   "source": [
    "cipher_text = inverse_initial_permutation(C2)\n",
    "print('Texto cifrado:', cipher_text)"
   ]
  },
  {
   "cell_type": "markdown",
   "metadata": {},
   "source": [
    "### Extra: Sintetizando em uma única função"
   ]
  },
  {
   "cell_type": "code",
   "execution_count": 17,
   "metadata": {},
   "outputs": [
    {
     "name": "stdout",
     "output_type": "stream",
     "text": [
      "[1 0 1 0 1 0 0 0]\n"
     ]
    }
   ],
   "source": [
    "key = bitarray('1010000010')\n",
    "plaintext = bitarray('11010111')\n",
    "\n",
    "def SDES(key, plaintext):\n",
    "    # Geração das subchaves\n",
    "    K_P10 = permutation_p10(key)\n",
    "    K_LR1 = subkeys_single_shift(K_P10)\n",
    "    K1 = permutation_p8(K_LR1)\n",
    "    K_LR2 = subkeys_double_shift(K_LR1)\n",
    "    K2 = permutation_p8(K_LR2)\n",
    "\n",
    "    # Permutação inicial\n",
    "    plaintext = initial_permutation(plaintext)\n",
    "\n",
    "    # Divisão em metades\n",
    "    L, R = plaintext[:4], plaintext[4:]\n",
    "\n",
    "    # Rodada 1\n",
    "    C1 = feistel_round(L, R, K1)\n",
    "    C1 = switch(C1)\n",
    "    C1_L, C1_R = C1[:4], C1[4:]\n",
    "\n",
    "    # Rodada 2\n",
    "    C2 = feistel_round(C1_L, C1_R, K2)\n",
    "    \n",
    "    # Permutação final\n",
    "    cipher_text = inverse_initial_permutation(C2)\n",
    "\n",
    "    return cipher_text\n",
    "\n",
    "print(SDES(key, plaintext))"
   ]
  }
 ],
 "metadata": {
  "kernelspec": {
   "display_name": "UnB_SegComp",
   "language": "python",
   "name": "python3"
  },
  "language_info": {
   "codemirror_mode": {
    "name": "ipython",
    "version": 3
   },
   "file_extension": ".py",
   "mimetype": "text/x-python",
   "name": "python",
   "nbconvert_exporter": "python",
   "pygments_lexer": "ipython3",
   "version": "3.13.0"
  }
 },
 "nbformat": 4,
 "nbformat_minor": 2
}
